{
  "nbformat": 4,
  "nbformat_minor": 0,
  "metadata": {
    "colab": {
      "name": "PHANI_CS",
      "provenance": []
    },
    "kernelspec": {
      "name": "python3",
      "display_name": "Python 3"
    },
    "language_info": {
      "name": "python"
    }
  },
  "cells": [
    {
      "cell_type": "code",
      "metadata": {
        "colab": {
          "base_uri": "https://localhost:8080/"
        },
        "id": "tZlOU0daWJn0",
        "outputId": "4550f55b-712b-429a-d5a5-e95304a7f1e4"
      },
      "source": [
        "import requests\n",
        "#import os\n",
        "from datetime import datetime\n",
        "\n",
        "api_key = 'c0e0473667350e2a42dd1b507b1b49b6'\n",
        "location = input(\"Enter the city name: \")\n",
        "\n",
        "complete_api_link = \"https://api.openweathermap.org/data/2.5/weather?q=\"+location+\"&appid=\"+api_key\n",
        "api_link = requests.get(complete_api_link)\n",
        "api_data = api_link.json()\n",
        "\n",
        "#create variables to store and display data\n",
        "temp_city = ((api_data['main']['temp']) - 273.15)\n",
        "weather_desc = api_data['weather'][0]['description']\n",
        "hmdt = api_data['main']['humidity']\n",
        "wind_spd = api_data['wind']['speed']\n",
        "date_time = datetime.now().strftime(\"%d %b %Y | %I:%M:%S %p\")\n",
        "\n",
        "print (\"-------------------------------------------------------------\")\n",
        "print (\"Weather Stats for - {}  || {}\".format(location.upper(), date_time))\n",
        "print (\"-------------------------------------------------------------\")\n",
        "\n",
        "print (\"Current temperature is: {:.2f} deg C\".format(temp_city))\n",
        "print (\"Current weather desc  :\",weather_desc)\n",
        "print (\"Current Humidity      :\",hmdt, '%')\n",
        "print (\"Current wind speed    :\",wind_spd ,'kmph')\n",
        "f=open('sample.txt','w')\n",
        "f.write('------------------------------------------------------------- \\n Weather Stats for - VIKARABAD  || 23 Jun 2021 | 04:15:31 PM \\n ------------------------------------------------------------- \\n Current temperature is: 26.58 deg C \\n Current weather desc  : overcast clouds \\n Current Humidity      : 61 % \\n Current wind speed    : 2.82 kmph')\n",
        "f.close()\n"
      ],
      "execution_count": 4,
      "outputs": [
        {
          "output_type": "stream",
          "text": [
            "Enter the city name: VIKARABAD\n",
            "-------------------------------------------------------------\n",
            "Weather Stats for - VIKARABAD  || 23 Jun 2021 | 04:18:39 PM\n",
            "-------------------------------------------------------------\n",
            "Current temperature is: 26.49 deg C\n",
            "Current weather desc  : overcast clouds\n",
            "Current Humidity      : 61 %\n",
            "Current wind speed    : 2.82 kmph\n"
          ],
          "name": "stdout"
        }
      ]
    }
  ]
}